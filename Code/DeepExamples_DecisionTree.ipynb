{
 "cells": [
  {
   "cell_type": "markdown",
   "metadata": {},
   "source": [
    "# Dataset Loading\n",
    "\n",
    "This dataset contains an airline passenger satisfaction survey. What factors are highly correlated to a satisfied (or dissatisfied) passenger? Can you predict passenger satisfaction?"
   ]
  },
  {
   "cell_type": "markdown",
   "metadata": {},
   "source": [
    "Load the dataset and have a loot to the mani metadata"
   ]
  },
  {
   "cell_type": "code",
   "execution_count": 24,
   "metadata": {
    "ExecuteTime": {
     "end_time": "2025-03-24T11:47:14.562106Z",
     "start_time": "2025-03-24T11:47:14.400092Z"
    }
   },
   "outputs": [
    {
     "name": "stdout",
     "output_type": "stream",
     "text": [
      "   Unnamed: 0      id  Gender      Customer Type  Age   Type of Travel  \\\n",
      "0           0   70172    Male     Loyal Customer   13  Personal Travel   \n",
      "1           1    5047    Male  disloyal Customer   25  Business travel   \n",
      "2           2  110028  Female     Loyal Customer   26  Business travel   \n",
      "3           3   24026  Female     Loyal Customer   25  Business travel   \n",
      "4           4  119299    Male     Loyal Customer   61  Business travel   \n",
      "\n",
      "      Class  Flight Distance  Inflight wifi service  \\\n",
      "0  Eco Plus              460                      3   \n",
      "1  Business              235                      3   \n",
      "2  Business             1142                      2   \n",
      "3  Business              562                      2   \n",
      "4  Business              214                      3   \n",
      "\n",
      "   Departure/Arrival time convenient  ...  Inflight entertainment  \\\n",
      "0                                  4  ...                       5   \n",
      "1                                  2  ...                       1   \n",
      "2                                  2  ...                       5   \n",
      "3                                  5  ...                       2   \n",
      "4                                  3  ...                       3   \n",
      "\n",
      "   On-board service  Leg room service  Baggage handling  Checkin service  \\\n",
      "0                 4                 3                 4                4   \n",
      "1                 1                 5                 3                1   \n",
      "2                 4                 3                 4                4   \n",
      "3                 2                 5                 3                1   \n",
      "4                 3                 4                 4                3   \n",
      "\n",
      "   Inflight service  Cleanliness  Departure Delay in Minutes  \\\n",
      "0                 5            5                          25   \n",
      "1                 4            1                           1   \n",
      "2                 4            5                           0   \n",
      "3                 4            2                          11   \n",
      "4                 3            3                           0   \n",
      "\n",
      "   Arrival Delay in Minutes             satisfaction  \n",
      "0                      18.0  neutral or dissatisfied  \n",
      "1                       6.0  neutral or dissatisfied  \n",
      "2                       0.0                satisfied  \n",
      "3                       9.0  neutral or dissatisfied  \n",
      "4                       0.0                satisfied  \n",
      "\n",
      "[5 rows x 25 columns]\n",
      "Index(['Unnamed: 0', 'id', 'Gender', 'Customer Type', 'Age', 'Type of Travel',\n",
      "       'Class', 'Flight Distance', 'Inflight wifi service',\n",
      "       'Departure/Arrival time convenient', 'Ease of Online booking',\n",
      "       'Gate location', 'Food and drink', 'Online boarding', 'Seat comfort',\n",
      "       'Inflight entertainment', 'On-board service', 'Leg room service',\n",
      "       'Baggage handling', 'Checkin service', 'Inflight service',\n",
      "       'Cleanliness', 'Departure Delay in Minutes', 'Arrival Delay in Minutes',\n",
      "       'satisfaction'],\n",
      "      dtype='object')\n"
     ]
    }
   ],
   "source": [
    "import pandas as pd\n",
    "df = pd.read_csv(\"Data/flight/train.csv\")\n",
    "print(df.head())\n",
    "print(df.columns)"
   ]
  },
  {
   "cell_type": "code",
   "execution_count": 25,
   "metadata": {
    "ExecuteTime": {
     "end_time": "2025-03-24T11:37:27.035143Z",
     "start_time": "2025-03-24T11:37:27.026381Z"
    }
   },
   "outputs": [
    {
     "data": {
      "text/plain": [
       "['neutral or dissatisfied', 'satisfied']"
      ]
     },
     "execution_count": 25,
     "metadata": {},
     "output_type": "execute_result"
    }
   ],
   "source": [
    "df['satisfaction'].unique().tolist()"
   ]
  },
  {
   "cell_type": "markdown",
   "metadata": {},
   "source": [
    "A way to make the categorical attributes as integer"
   ]
  },
  {
   "cell_type": "code",
   "execution_count": null,
   "metadata": {
    "ExecuteTime": {
     "end_time": "2025-03-24T11:40:30.562370Z",
     "start_time": "2025-03-24T11:40:30.555104Z"
    }
   },
   "outputs": [],
   "source": [
    "print(df['Gender'][0:5])\n",
    "print(pd.factorize(df['Gender']))"
   ]
  },
  {
   "cell_type": "code",
   "execution_count": null,
   "metadata": {
    "ExecuteTime": {
     "end_time": "2025-03-24T11:42:19.151560Z",
     "start_time": "2025-03-24T11:42:19.130023Z"
    }
   },
   "outputs": [],
   "source": [
    "df['Gender'],  gender_index = pd.factorize(df['Gender'])\n",
    "df['Customer Type'],  customer_type_index = pd.factorize(df['Customer Type'])\n",
    "df['Type of Travel'],  type_of_Travel_index = pd.factorize(df['Type of Travel'])\n",
    "df['Class'],  class_index = pd.factorize(df['Class'])\n"
   ]
  },
  {
   "cell_type": "code",
   "execution_count": null,
   "metadata": {},
   "outputs": [],
   "source": [
    "df.head()"
   ]
  },
  {
   "cell_type": "markdown",
   "metadata": {},
   "source": [
    "Another option to transform categorical attributes to integer"
   ]
  },
  {
   "cell_type": "code",
   "execution_count": null,
   "metadata": {},
   "outputs": [],
   "source": [
    "gender_set = set(df['Gender'])"
   ]
  },
  {
   "cell_type": "code",
   "execution_count": null,
   "metadata": {},
   "outputs": [],
   "source": [
    "gender_Dic = {k:v for v, k in enumerate(gender_set)}\n",
    "gender_Dic"
   ]
  },
  {
   "cell_type": "code",
   "execution_count": null,
   "metadata": {
    "ExecuteTime": {
     "end_time": "2025-03-24T11:51:16.460247Z",
     "start_time": "2025-03-24T11:51:16.421162Z"
    }
   },
   "outputs": [],
   "source": [
    "gender_set = set(df['Gender'])\n",
    "gender_Dic = {k:v for v, k in enumerate(gender_set)}\n",
    "df['Gender'] = df['Gender'].replace(gender_Dic)"
   ]
  },
  {
   "cell_type": "code",
   "execution_count": null,
   "metadata": {
    "ExecuteTime": {
     "end_time": "2025-03-24T11:51:39.131061Z",
     "start_time": "2025-03-24T11:51:39.126675Z"
    }
   },
   "outputs": [],
   "source": [
    "df['Gender']"
   ]
  },
  {
   "cell_type": "code",
   "execution_count": 27,
   "metadata": {
    "ExecuteTime": {
     "end_time": "2025-03-24T11:52:20.844234Z",
     "start_time": "2025-03-24T11:52:20.709567Z"
    }
   },
   "outputs": [],
   "source": [
    "gender_set = set(df['Gender'])\n",
    "gender_Dic = {k:v for v, k in enumerate(gender_set)}\n",
    "df['Gender'].replace(gender_Dic, inplace=True)\n",
    "\n",
    "customer_type_set = set(df['Customer Type'])\n",
    "customer_type_Dic = {k:v for v, k in enumerate(customer_type_set)}\n",
    "df['Customer Type'].replace(customer_type_Dic, inplace=True)\n",
    "type_of_Travel_set = set(df['Type of Travel'])\n",
    "type_of_Travel_Dic = {k:v for v, k in enumerate(type_of_Travel_set)}\n",
    "df['Type of Travel'].replace(type_of_Travel_Dic, inplace=True)\n",
    "class_set = set(df['Class'])\n",
    "class_Dic = {k:v for v, k in enumerate(class_set)}\n",
    "df['Class'].replace(class_Dic, inplace=True)"
   ]
  },
  {
   "cell_type": "markdown",
   "metadata": {},
   "source": [
    "## Decision Tree Classifier\n"
   ]
  },
  {
   "cell_type": "code",
   "execution_count": 28,
   "metadata": {
    "ExecuteTime": {
     "end_time": "2025-03-24T11:52:27.619029Z",
     "start_time": "2025-03-24T11:52:27.217334Z"
    }
   },
   "outputs": [],
   "source": [
    "from sklearn import tree\n",
    "\n",
    "Y = df['satisfaction']\n",
    "X = df.drop(['Unnamed: 0','id', 'satisfaction'],axis=1)\n",
    "\n",
    "clf = tree.DecisionTreeClassifier(criterion='entropy',max_depth=10,min_samples_split=2,min_samples_leaf=2,random_state=42)\n",
    "clf = clf.fit(X, Y)"
   ]
  },
  {
   "cell_type": "markdown",
   "metadata": {},
   "source": []
  },
  {
   "cell_type": "code",
   "execution_count": null,
   "metadata": {
    "ExecuteTime": {
     "end_time": "2025-03-24T11:42:36.941692Z",
     "start_time": "2025-03-24T11:42:33.554011Z"
    }
   },
   "outputs": [],
   "source": [
    "import pydotplus \n",
    "from IPython.display import Image\n",
    "\n",
    "dot_data = tree.export_graphviz(clf, feature_names=X.columns, class_names=['neutral or dissatisfied', 'satisfied'], filled=True, \n",
    "                                out_file=None) \n",
    "graph = pydotplus.graph_from_dot_data(dot_data) \n",
    "graph.set_size('1000')\n",
    "Image(graph.create_png())"
   ]
  },
  {
   "cell_type": "markdown",
   "metadata": {},
   "source": [
    "Next, suppose we apply the decision tree to classify the following test examples."
   ]
  },
  {
   "cell_type": "code",
   "execution_count": null,
   "metadata": {
    "ExecuteTime": {
     "end_time": "2025-03-24T11:52:34.313060Z",
     "start_time": "2025-03-24T11:52:34.271073Z"
    }
   },
   "outputs": [],
   "source": [
    "testData = pd.read_csv(\"Data/flight/test.csv\")"
   ]
  },
  {
   "cell_type": "code",
   "execution_count": null,
   "metadata": {
    "ExecuteTime": {
     "end_time": "2025-03-24T11:43:28.622330Z",
     "start_time": "2025-03-24T11:43:28.613151Z"
    }
   },
   "outputs": [],
   "source": [
    "testData['Gender'],  gender_index = pd.factorize(testData['Gender'])\n",
    "testData['Customer Type'],  customer_type_index = pd.factorize(testData['Customer Type'])\n",
    "testData['Type of Travel'],  type_of_Travel_index = pd.factorize(testData['Type of Travel'])\n",
    "testData['Class'],  class_index = pd.factorize(testData['Class'])\n"
   ]
  },
  {
   "cell_type": "code",
   "execution_count": null,
   "metadata": {
    "ExecuteTime": {
     "end_time": "2025-03-24T11:53:43.819017Z",
     "start_time": "2025-03-24T11:53:43.787654Z"
    }
   },
   "outputs": [],
   "source": [
    "#gender_set = set(testData['Gender'])\n",
    "#gender_Dic = {k:v for v, k in enumerate(gender_set)}\n",
    "testData['Gender'].replace(gender_Dic, inplace=True)\n",
    "#customer_type_set = set(testData['Customer Type'])\n",
    "#customer_type_Dic = {k:v for v, k in enumerate(customer_type_set)}\n",
    "testData['Customer Type'].replace(customer_type_Dic, inplace=True)\n",
    "#type_of_Travel_set = set(testData['Type of Travel'])\n",
    "#type_of_Travel_Dic = {k:v for v, k in enumerate(type_of_Travel_set)}\n",
    "testData['Type of Travel'].replace(type_of_Travel_Dic, inplace=True)\n",
    "#class_set = set(testData['Class'])\n",
    "#class_Dic = {k:v for v, k in enumerate(class_set)}\n",
    "testData['Class'].replace(class_Dic, inplace=True)"
   ]
  },
  {
   "cell_type": "markdown",
   "metadata": {},
   "source": [
    "We first extract the predictor and target class attributes from the test data and then apply the decision tree classifier to predict their classes."
   ]
  },
  {
   "cell_type": "code",
   "execution_count": 29,
   "metadata": {
    "ExecuteTime": {
     "end_time": "2025-03-24T11:53:59.410Z",
     "start_time": "2025-03-24T11:53:59.397622Z"
    }
   },
   "outputs": [
    {
     "data": {
      "text/html": [
       "<div>\n",
       "<style scoped>\n",
       "    .dataframe tbody tr th:only-of-type {\n",
       "        vertical-align: middle;\n",
       "    }\n",
       "\n",
       "    .dataframe tbody tr th {\n",
       "        vertical-align: top;\n",
       "    }\n",
       "\n",
       "    .dataframe thead th {\n",
       "        text-align: right;\n",
       "    }\n",
       "</style>\n",
       "<table border=\"1\" class=\"dataframe\">\n",
       "  <thead>\n",
       "    <tr style=\"text-align: right;\">\n",
       "      <th></th>\n",
       "      <th>satisfaction</th>\n",
       "      <th>Predicted Class</th>\n",
       "    </tr>\n",
       "  </thead>\n",
       "  <tbody>\n",
       "    <tr>\n",
       "      <th>0</th>\n",
       "      <td>satisfied</td>\n",
       "      <td>neutral or dissatisfied</td>\n",
       "    </tr>\n",
       "    <tr>\n",
       "      <th>1</th>\n",
       "      <td>satisfied</td>\n",
       "      <td>neutral or dissatisfied</td>\n",
       "    </tr>\n",
       "    <tr>\n",
       "      <th>2</th>\n",
       "      <td>neutral or dissatisfied</td>\n",
       "      <td>neutral or dissatisfied</td>\n",
       "    </tr>\n",
       "    <tr>\n",
       "      <th>3</th>\n",
       "      <td>satisfied</td>\n",
       "      <td>neutral or dissatisfied</td>\n",
       "    </tr>\n",
       "    <tr>\n",
       "      <th>4</th>\n",
       "      <td>satisfied</td>\n",
       "      <td>neutral or dissatisfied</td>\n",
       "    </tr>\n",
       "    <tr>\n",
       "      <th>...</th>\n",
       "      <td>...</td>\n",
       "      <td>...</td>\n",
       "    </tr>\n",
       "    <tr>\n",
       "      <th>25971</th>\n",
       "      <td>neutral or dissatisfied</td>\n",
       "      <td>satisfied</td>\n",
       "    </tr>\n",
       "    <tr>\n",
       "      <th>25972</th>\n",
       "      <td>satisfied</td>\n",
       "      <td>neutral or dissatisfied</td>\n",
       "    </tr>\n",
       "    <tr>\n",
       "      <th>25973</th>\n",
       "      <td>neutral or dissatisfied</td>\n",
       "      <td>neutral or dissatisfied</td>\n",
       "    </tr>\n",
       "    <tr>\n",
       "      <th>25974</th>\n",
       "      <td>satisfied</td>\n",
       "      <td>neutral or dissatisfied</td>\n",
       "    </tr>\n",
       "    <tr>\n",
       "      <th>25975</th>\n",
       "      <td>neutral or dissatisfied</td>\n",
       "      <td>neutral or dissatisfied</td>\n",
       "    </tr>\n",
       "  </tbody>\n",
       "</table>\n",
       "<p>25976 rows × 2 columns</p>\n",
       "</div>"
      ],
      "text/plain": [
       "                  satisfaction          Predicted Class\n",
       "0                    satisfied  neutral or dissatisfied\n",
       "1                    satisfied  neutral or dissatisfied\n",
       "2      neutral or dissatisfied  neutral or dissatisfied\n",
       "3                    satisfied  neutral or dissatisfied\n",
       "4                    satisfied  neutral or dissatisfied\n",
       "...                        ...                      ...\n",
       "25971  neutral or dissatisfied                satisfied\n",
       "25972                satisfied  neutral or dissatisfied\n",
       "25973  neutral or dissatisfied  neutral or dissatisfied\n",
       "25974                satisfied  neutral or dissatisfied\n",
       "25975  neutral or dissatisfied  neutral or dissatisfied\n",
       "\n",
       "[25976 rows x 2 columns]"
      ]
     },
     "execution_count": 29,
     "metadata": {},
     "output_type": "execute_result"
    }
   ],
   "source": [
    "testY = testData['satisfaction']\n",
    "testX = testData.drop(['Unnamed: 0','id', 'satisfaction'],axis=1)\n",
    "\n",
    "predY = clf.predict(testX)\n",
    "predictions = pd.concat([testData['satisfaction'],pd.Series(predY,name='Predicted Class')], axis=1)\n",
    "predictions"
   ]
  },
  {
   "cell_type": "markdown",
   "metadata": {},
   "source": [
    "Except for platypus, which is an egg-laying mammal, the classifier correctly predicts the class label of the test examples. We can calculate the accuracy of the classifier on the test data as shown by the example given below."
   ]
  },
  {
   "cell_type": "code",
   "execution_count": 30,
   "metadata": {
    "ExecuteTime": {
     "end_time": "2025-03-24T11:54:04.456501Z",
     "start_time": "2025-03-24T11:54:04.400876Z"
    }
   },
   "outputs": [
    {
     "name": "stdout",
     "output_type": "stream",
     "text": [
      "['satisfied' 'satisfied' 'neutral or dissatisfied' ...\n",
      " 'neutral or dissatisfied' 'satisfied' 'neutral or dissatisfied'] is type <class 'pandas.core.series.Series'>\n",
      "['neutral or dissatisfied' 'neutral or dissatisfied'\n",
      " 'neutral or dissatisfied' ... 'neutral or dissatisfied'\n",
      " 'neutral or dissatisfied' 'neutral or dissatisfied'] is type <class 'numpy.ndarray'>\n",
      "Accuracy on test data is 0.68\n"
     ]
    }
   ],
   "source": [
    "from sklearn.metrics import accuracy_score\n",
    "print(f\"{testY.values} is type {type(testY)}\")\n",
    "print(f\"{predY} is type {type(predY)}\")\n",
    "\n",
    "print('Accuracy on test data is %.2f' % (accuracy_score(testY, predY)))"
   ]
  },
  {
   "cell_type": "code",
   "execution_count": null,
   "metadata": {},
   "outputs": [],
   "source": []
  }
 ],
 "metadata": {
  "kernelspec": {
   "display_name": "AdsumAI",
   "language": "python",
   "name": "python3"
  },
  "language_info": {
   "codemirror_mode": {
    "name": "ipython",
    "version": 3
   },
   "file_extension": ".py",
   "mimetype": "text/x-python",
   "name": "python",
   "nbconvert_exporter": "python",
   "pygments_lexer": "ipython3",
   "version": "3.12.9"
  }
 },
 "nbformat": 4,
 "nbformat_minor": 2
}
